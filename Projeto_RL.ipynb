{
  "nbformat": 4,
  "nbformat_minor": 0,
  "metadata": {
    "colab": {
      "name": "Projeto_RL.ipynb",
      "provenance": [],
      "collapsed_sections": [],
      "toc_visible": true,
      "include_colab_link": true
    },
    "kernelspec": {
      "name": "python3",
      "display_name": "Python 3"
    }
  },
  "cells": [
    {
      "cell_type": "markdown",
      "metadata": {
        "id": "view-in-github",
        "colab_type": "text"
      },
      "source": [
        "<a href=\"https://colab.research.google.com/github/NERO-UFV/AuRoRA/blob/reinforcementLearning/Projeto_RL.ipynb\" target=\"_parent\"><img src=\"https://colab.research.google.com/assets/colab-badge.svg\" alt=\"Open In Colab\"/></a>"
      ]
    },
    {
      "cell_type": "markdown",
      "metadata": {
        "id": "VmbZHY-NTGIt"
      },
      "source": [
        "Fazer conexão com o GitHub"
      ]
    },
    {
      "cell_type": "markdown",
      "metadata": {
        "id": "F7ahrijhTBrq"
      },
      "source": [
        "# Algoritmos de Aprendizado por Reforço Aplicados à Navegação de Veículos Autônomos em Ambientes Estruturados\n",
        "- Markov Decision Process\n",
        "- Exploration/Explotation\n",
        "- Mapeamento (Occupancy Grid, Loop Closure Detection)\n",
        "- Planejamento de rotas\n",
        "- Comunicação Python com LiDAR\n",
        "- Política de Ações (Estabelecimento de métricas)\n",
        "- Algoritmo "
      ]
    },
    {
      "cell_type": "markdown",
      "metadata": {
        "id": "LoB1qB1UTR-N"
      },
      "source": [
        "# Carregando Bibliotecas"
      ]
    },
    {
      "cell_type": "code",
      "metadata": {
        "id": "llFSYP7XTWCV"
      },
      "source": [
        "# Imports de avisos\n",
        "import sys\n",
        "import warnings\n",
        "import matplotlib.cbook\n",
        "if not sys.warnoptions:\n",
        "    warnings.simplefilter(\"ignore\")\n",
        "warnings.simplefilter(action='ignore', category=FutureWarning)\n",
        "warnings.filterwarnings(\"ignore\", category=FutureWarning)\n",
        "warnings.filterwarnings(\"ignore\", category=matplotlib.cbook.mplDeprecation)\n",
        "\n",
        "# Imports para manipulacao de dados e calculos matematicos\n",
        "import os\n",
        "import pandas as pd\n",
        "import numpy as np\n",
        "import math, re, time\n",
        "from get_dict import get_dict\n",
        "from get_R_Q import initial_R\n",
        "from get_R_Q import initial_Q\n",
        "from get_result import get_result\n",
        "# Import para manipulação das imagens\n",
        "import matplotlib.pyplot as plt\n",
        "from matplotlib import pyplot\n",
        "import IPython.display as display\n",
        "from PIL import Image\n",
        "from skimage.transform import resize\n",
        "import cv2"
      ],
      "execution_count": 2,
      "outputs": []
    },
    {
      "cell_type": "markdown",
      "metadata": {
        "id": "06ruRWlATXSW"
      },
      "source": [
        "# Carregando o Dataset"
      ]
    },
    {
      "cell_type": "code",
      "metadata": {
        "id": "Pv9zAozRTcBv"
      },
      "source": [
        "from google.colab import files  #biblioteca do google colab utilizada para importar arquivos \n",
        "uploaded=files.upload() #importa os arquivos"
      ],
      "execution_count": null,
      "outputs": []
    },
    {
      "cell_type": "code",
      "metadata": {
        "id": "NmS6yt4zTeT9"
      },
      "source": [
        "import io  #biblioteca utilizada para tratar os comandos de entrada e saida\n",
        "data = pd.read_csv(io.BytesIO(uploaded['graph_11.csv'])) # utilizado para importar o arquivo CSV que contém o banco de dados\n",
        "# data = pd.read_csv(\"graph_12.csv\")\n",
        "graph = get_dict(data)"
      ],
      "execution_count": null,
      "outputs": []
    },
    {
      "cell_type": "code",
      "metadata": {
        "id": "ykJt2dzBTkq2",
        "outputId": "8077c61c-fb8f-4861-bf50-8893419e677f",
        "colab": {
          "base_uri": "https://localhost:8080/",
          "height": 204
        }
      },
      "source": [
        "data.head() #comando utilizado para mostrar as 5 primeiras colunas do dataframe"
      ],
      "execution_count": null,
      "outputs": [
        {
          "output_type": "execute_result",
          "data": {
            "text/html": [
              "<div>\n",
              "<style scoped>\n",
              "    .dataframe tbody tr th:only-of-type {\n",
              "        vertical-align: middle;\n",
              "    }\n",
              "\n",
              "    .dataframe tbody tr th {\n",
              "        vertical-align: top;\n",
              "    }\n",
              "\n",
              "    .dataframe thead th {\n",
              "        text-align: right;\n",
              "    }\n",
              "</style>\n",
              "<table border=\"1\" class=\"dataframe\">\n",
              "  <thead>\n",
              "    <tr style=\"text-align: right;\">\n",
              "      <th></th>\n",
              "      <th>original</th>\n",
              "      <th>connected</th>\n",
              "      <th>weight</th>\n",
              "    </tr>\n",
              "  </thead>\n",
              "  <tbody>\n",
              "    <tr>\n",
              "      <th>0</th>\n",
              "      <td>1</td>\n",
              "      <td>5</td>\n",
              "      <td>13</td>\n",
              "    </tr>\n",
              "    <tr>\n",
              "      <th>1</th>\n",
              "      <td>1</td>\n",
              "      <td>2</td>\n",
              "      <td>5</td>\n",
              "    </tr>\n",
              "    <tr>\n",
              "      <th>2</th>\n",
              "      <td>1</td>\n",
              "      <td>3</td>\n",
              "      <td>7</td>\n",
              "    </tr>\n",
              "    <tr>\n",
              "      <th>3</th>\n",
              "      <td>2</td>\n",
              "      <td>3</td>\n",
              "      <td>14</td>\n",
              "    </tr>\n",
              "    <tr>\n",
              "      <th>4</th>\n",
              "      <td>2</td>\n",
              "      <td>5</td>\n",
              "      <td>2</td>\n",
              "    </tr>\n",
              "  </tbody>\n",
              "</table>\n",
              "</div>"
            ],
            "text/plain": [
              "   original  connected  weight\n",
              "0         1          5      13\n",
              "1         1          2       5\n",
              "2         1          3       7\n",
              "3         2          3      14\n",
              "4         2          5       2"
            ]
          },
          "metadata": {
            "tags": []
          },
          "execution_count": 5
        }
      ]
    },
    {
      "cell_type": "code",
      "metadata": {
        "id": "GIrS16h2Tmrk",
        "outputId": "eeb60028-2d61-4688-cdb4-c90e5afc5b44",
        "colab": {
          "base_uri": "https://localhost:8080/",
          "height": 296
        }
      },
      "source": [
        "# Isso aqui é só para dar uma ideia de como plotar \n",
        "plt.plot(data[\"original\"],data[\"connected\"])\n",
        "plt.ylabel(\"Saída\")\n",
        "plt.xlabel(\"Chegada\")"
      ],
      "execution_count": null,
      "outputs": [
        {
          "output_type": "execute_result",
          "data": {
            "text/plain": [
              "Text(0.5, 0, 'Chegada')"
            ]
          },
          "metadata": {
            "tags": []
          },
          "execution_count": 6
        },
        {
          "output_type": "display_data",
          "data": {
            "image/png": "[encoded data removed]",
            "text/plain": [
              "<Figure size 432x288 with 1 Axes>"
            ]
          },
          "metadata": {
            "tags": [],
            "needs_background": "light"
          }
        }
      ]
    },
    {
      "cell_type": "markdown",
      "metadata": {
        "id": "h3kMr9KIgyYj"
      },
      "source": [
        "# Mapeamento"
      ]
    },
    {
      "cell_type": "code",
      "metadata": {
        "id": "RRktJp4vg6PH"
      },
      "source": [
        ""
      ],
      "execution_count": null,
      "outputs": []
    },
    {
      "cell_type": "markdown",
      "metadata": {
        "id": "JhcMh3I2TplY"
      },
      "source": [
        "# Algoritmo Q-Rounting para rotas ótimas"
      ]
    },
    {
      "cell_type": "code",
      "metadata": {
        "id": "uzc62KrKTs4t",
        "outputId": "82960dfb-8b53-4a70-a8ae-da7e8274115a",
        "colab": {
          "base_uri": "https://localhost:8080/",
          "height": 34
        }
      },
      "source": [
        "A = graph[\"A\"]\n",
        "Z = graph[\"Z\"]\n",
        "weight = graph[\"weight\"]\n",
        "A_Z_dict = graph[\"A_Z_dict\"]\n",
        "\n",
        "## Definir ponto de saída e chegada\n",
        "start = 1\n",
        "end = [25]\n",
        "\n",
        "R = initial_R(A,Z,weight,A_Z_dict)\n",
        "Q = initial_Q(R)\n",
        "\n",
        "alpha = 0.7 # learning rate\n",
        "epsilon = 0.1 #greedy policy\n",
        "n_episodes = 1000\n",
        "\n",
        "time0 = time.time()\n",
        "result = get_result(R,Q,alpha,epsilon,n_episodes,start,end)\n",
        "print(\"time is:\",time.time() - time0)\n",
        "print(result[\"all_routes\"])"
      ],
      "execution_count": null,
      "outputs": [
        {
          "output_type": "stream",
          "text": [
            "loop: 0\n"
          ],
          "name": "stdout"
        }
      ]
    }
  ]
}